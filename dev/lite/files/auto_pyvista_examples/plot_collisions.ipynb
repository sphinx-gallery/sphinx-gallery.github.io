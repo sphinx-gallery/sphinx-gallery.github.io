{
  "cells": [
    {
      "cell_type": "markdown",
      "metadata": {},
      "source": [
        "<div class='alert alert-danger'>\n\n# JupyterLite warning\n\nPyVista is not packaged in Pyodide, this notebook is not expected to work inside JupyterLite\n</div>"
      ]
    },
    {
      "cell_type": "markdown",
      "metadata": {},
      "source": [
        "\n\n# Collision\nPerform a collision detection between two meshes.\n\nThis example uses the ``collision`` filter to detect the faces from one sphere\ncolliding with another sphere.\n\n<div class=\"alert alert-info\"><h4>Note</h4><p>Due to the nature of the [vtk.vtkCollisionDetectionFilter](https://vtk.org/doc/nightly/html/classvtkCollisionDetectionFilter.html),\n   repeated uses of this method will be slower that using the\n   ``vtk.vtkCollisionDetectionFilter`` directly.  The first\n   update of the filter creates two instances of [vtkOBBTree](https://vtk.org/doc/nightly/html/classvtkOBBTree.html),\n   which can be subsequently updated by modifying the transform or\n   matrix of the input meshes.\n\n   This method assumes no transform and is easier to use for\n   single collision tests, but it is recommended to use a\n   combination of ``pyvista`` and ``vtk`` for rapidly computing\n   repeated collisions.  See the [Collision Detection Example](https://kitware.github.io/vtk-examples/site/Python/Visualization/CollisionDetection/)</p></div>\n"
      ]
    },
    {
      "cell_type": "code",
      "execution_count": null,
      "metadata": {
        "collapsed": false
      },
      "outputs": [],
      "source": [
        "import numpy as np\n\nimport pyvista as pv\n\npv.set_plot_theme(\"document\")"
      ]
    },
    {
      "cell_type": "markdown",
      "metadata": {},
      "source": [
        "Create the main mesh and the secondary \"moving\" mesh.\n\nCollision faces will be plotted on this sphere, and to do so we\ninitialize an initial ``\"collisions\"`` mask.\n\n"
      ]
    },
    {
      "cell_type": "code",
      "execution_count": null,
      "metadata": {
        "collapsed": false
      },
      "outputs": [],
      "source": [
        "sphere0 = pv.Sphere()\nsphere0[\"collisions\"] = np.zeros(sphere0.n_cells, dtype=bool)\n\n# This mesh will be the moving mesh\nsphere1 = pv.Sphere(radius=0.6, center=(-1, 0, 0))"
      ]
    },
    {
      "cell_type": "markdown",
      "metadata": {},
      "source": [
        "Setup the plotter open a movie, and write a frame after moving the sphere.\n\n\n"
      ]
    },
    {
      "cell_type": "code",
      "execution_count": null,
      "metadata": {
        "collapsed": false
      },
      "outputs": [],
      "source": [
        "pl = pv.Plotter()\npl.enable_hidden_line_removal()\npl.add_mesh(sphere0, show_scalar_bar=False, cmap=\"bwr\")\npl.camera_position = \"xz\"\npl.add_mesh(sphere1, style=\"wireframe\", color=\"green\", line_width=5)\n\n# for this example\npl.open_gif(\"collision_movie.gif\")\n\n# alternatively, to disable movie generation:\n# pl.show(auto_close=False, interactive=False)\n\ndelta_x = 0.05\nfor i in range(int(2 / delta_x)):\n    sphere1.translate([delta_x, 0, 0])\n    col, n_contacts = sphere0.collision(sphere1)\n\n    collision_mask = np.zeros(sphere0.n_cells, dtype=bool)\n    if n_contacts:\n        collision_mask[col[\"ContactCells\"]] = True\n    sphere0[\"collisions\"] = collision_mask\n    pl.write_frame()\n\n    # alternatively, disable movie plotting and simply render the image\n    # pl.render()\n\npl.close()"
      ]
    }
  ],
  "metadata": {
    "kernelspec": {
      "display_name": "Python 3",
      "language": "python",
      "name": "python3"
    },
    "language_info": {
      "codemirror_mode": {
        "name": "ipython",
        "version": 3
      },
      "file_extension": ".py",
      "mimetype": "text/x-python",
      "name": "python",
      "nbconvert_exporter": "python",
      "pygments_lexer": "ipython3",
      "version": "3.10.12"
    }
  },
  "nbformat": 4,
  "nbformat_minor": 0
}