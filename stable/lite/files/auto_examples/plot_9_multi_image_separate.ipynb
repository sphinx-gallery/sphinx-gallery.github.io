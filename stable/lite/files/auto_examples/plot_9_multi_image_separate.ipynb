{
  "cells": [
    {
      "cell_type": "markdown",
      "metadata": {},
      "source": [
        "<div class='alert alert-warning'>\n\n# JupyterLite warning\n\nJupyterLite integration in sphinx-gallery is beta and it may break in unexpected ways\n</div>"
      ]
    },
    {
      "cell_type": "markdown",
      "metadata": {},
      "source": [
        "\n# Force plots to be displayed on separate lines\nThis example demonstrates how the visualisation of multiple plots produced from a single\ncode block can be controlled. The default behaviour is to stack plots side-by-side,\nhowever this can be overridden to display each plot created by the code block on a\nseparate line, preserving their size.\n\nThere are two config options to control this behaviour:\n\n- a file-wide ``sphinx_gallery_multi_image`` variable\n- a code block-specific ``sphinx_gallery_multi_image_block`` variable\n\nSetting these variables to ``\"single\"`` will force plots to be displayed on separate\nlines. Default behaviour is to treat these variables as being set to ``\"multi\"``.\n\nBelow we demonstrate how the file-wide ``sphinx_gallery_multi_image`` variable can be\nused to display plots on separate lines.\n"
      ]
    },
    {
      "cell_type": "code",
      "execution_count": null,
      "metadata": {
        "collapsed": false
      },
      "outputs": [],
      "source": [
        "# Code source: Thomas S. Binns\n# License: BSD 3 clause\n\n# sphinx_gallery_multi_image = \"single\"\n\nimport matplotlib.pyplot as plt\nimport numpy as np"
      ]
    },
    {
      "cell_type": "code",
      "execution_count": null,
      "metadata": {
        "collapsed": false
      },
      "outputs": [],
      "source": [
        "# Plots will be shown on separate lines\n\nfig, ax = plt.subplots(1, 1, figsize=(8, 4))\nax.pcolormesh(np.random.randn(100, 100))\n\nfig, ax = plt.subplots(1, 1, figsize=(8, 4))\nax.pcolormesh(np.random.randn(100, 100))"
      ]
    },
    {
      "cell_type": "markdown",
      "metadata": {},
      "source": [
        "Now, we show how the ``sphinx_gallery_multi_image_block`` variable can be used to\ncontrol the behaviour for a specific code block, here reverting to the default\nbehaviour of stacking plots side-by-side.\n\n"
      ]
    },
    {
      "cell_type": "code",
      "execution_count": null,
      "metadata": {
        "collapsed": false
      },
      "outputs": [],
      "source": [
        "# sphinx_gallery_multi_image_block = \"multi\"\n# \u2191\u2191\u2191 Return to default behaviour for just this cell\n\nfig, ax = plt.subplots(1, 1, figsize=(8, 4))\nax.pcolormesh(np.random.randn(100, 100))\n\nfig, ax = plt.subplots(1, 1, figsize=(8, 4))\nax.pcolormesh(np.random.randn(100, 100))"
      ]
    }
  ],
  "metadata": {
    "kernelspec": {
      "display_name": "Python 3",
      "language": "python",
      "name": "python3"
    },
    "language_info": {
      "codemirror_mode": {
        "name": "ipython",
        "version": 3
      },
      "file_extension": ".py",
      "mimetype": "text/x-python",
      "name": "python",
      "nbconvert_exporter": "python",
      "pygments_lexer": "ipython3",
      "version": "3.10.12"
    }
  },
  "nbformat": 4,
  "nbformat_minor": 0
}