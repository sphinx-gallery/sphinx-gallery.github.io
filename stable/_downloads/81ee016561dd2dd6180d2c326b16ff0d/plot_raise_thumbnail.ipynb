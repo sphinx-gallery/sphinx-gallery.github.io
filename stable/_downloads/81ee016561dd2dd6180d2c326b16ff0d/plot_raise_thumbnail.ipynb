{
  "cells": [
    {
      "cell_type": "markdown",
      "metadata": {},
      "source": [
        "\n# Example that fails to execute (with normal thumbnail behaviour)\n\nBy default, examples with code blocks that raise an error will have the broken\nimage stamp as their gallery thumbnail. However, this may not be desired, e.g.\nif only part of the example is expected to fail and it should not look like the\nentire example fails.\n\nIn these cases, the `sphinx_gallery_failing_thumbnail` variable can be set to\n``False``, which will change the thumbnail selection to the default behaviour\nas for non-failing examples.\n"
      ]
    },
    {
      "cell_type": "code",
      "execution_count": null,
      "metadata": {
        "collapsed": false
      },
      "outputs": [],
      "source": [
        "# Code source: Thomas S. Binns\n# License: BSD 3 clause\n# sphinx_gallery_line_numbers = True\n\n# sphinx_gallery_failing_thumbnail = False\n\nimport matplotlib.pyplot as plt\nimport numpy as np\n\nplt.pcolormesh(np.random.randn(100, 100))"
      ]
    },
    {
      "cell_type": "markdown",
      "metadata": {},
      "source": [
        "This block will raise an AssertionError\n\n"
      ]
    },
    {
      "cell_type": "code",
      "execution_count": null,
      "metadata": {
        "collapsed": false
      },
      "outputs": [],
      "source": [
        "assert False"
      ]
    }
  ],
  "metadata": {
    "kernelspec": {
      "display_name": "Python 3",
      "language": "python",
      "name": "python3"
    },
    "language_info": {
      "codemirror_mode": {
        "name": "ipython",
        "version": 3
      },
      "file_extension": ".py",
      "mimetype": "text/x-python",
      "name": "python",
      "nbconvert_exporter": "python",
      "pygments_lexer": "ipython3",
      "version": "3.10.12"
    }
  },
  "nbformat": 4,
  "nbformat_minor": 0
}