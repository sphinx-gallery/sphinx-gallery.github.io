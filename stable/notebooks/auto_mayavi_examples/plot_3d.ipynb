{
  "cells": [
    {
      "cell_type": "code",
      "execution_count": null,
      "metadata": {
        "collapsed": false
      },
      "outputs": [],
      "source": [
        "%matplotlib inline"
      ]
    },
    {
      "cell_type": "markdown",
      "metadata": {},
      "source": [
        "\nPlotting simple 3D graph with Mayavi\n====================================\n\nA simple example of the plot of a 3D graph with Mayavi\nin order to test the autonomy of the gallery.\n\n"
      ]
    },
    {
      "cell_type": "code",
      "execution_count": null,
      "metadata": {
        "collapsed": false
      },
      "outputs": [],
      "source": [
        "# Code source: Alex Gramfort\n# License: BSD 3 clause\n\n# This will show the mlab.test_mesh figure in the gallery\n# sphinx_gallery_thumbnail_number = 4\n\nfrom mayavi import mlab\n\nmlab.test_plot3d()\n\nmlab.figure()\nmlab.test_contour3d()"
      ]
    },
    {
      "cell_type": "markdown",
      "metadata": {},
      "source": [
        "Note: this shows that inside a cell matplotlib figures are always\nput before mayavi in the example HTML. In other words, the order of\nplotting is not respected between matplotlib and mayavi figures\n\n"
      ]
    },
    {
      "cell_type": "code",
      "execution_count": null,
      "metadata": {
        "collapsed": false
      },
      "outputs": [],
      "source": [
        "mlab.figure()\nmlab.test_mesh()\n\nmlab.figure()\nmlab.test_flow()\n\nimport matplotlib.pyplot as plt\nplt.plot([1, 2, 3], [1, 2, 3])"
      ]
    }
  ],
  "metadata": {
    "kernelspec": {
      "display_name": "Python 3",
      "language": "python",
      "name": "python3"
    },
    "language_info": {
      "codemirror_mode": {
        "name": "ipython",
        "version": 3
      },
      "file_extension": ".py",
      "mimetype": "text/x-python",
      "name": "python",
      "nbconvert_exporter": "python",
      "pygments_lexer": "ipython3",
      "version": "3.6.10"
    }
  },
  "nbformat": 4,
  "nbformat_minor": 0
}