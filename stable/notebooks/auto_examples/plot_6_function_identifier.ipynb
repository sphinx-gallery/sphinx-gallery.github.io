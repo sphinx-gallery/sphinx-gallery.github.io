{
  "cells": [
    {
      "cell_type": "markdown",
      "metadata": {},
      "source": [
        "\n# Identifying function names in a script\n\nThis demonstrates how Sphinx-Gallery identifies when\n\n1. a function/method/attribute/object is used or class instantiated in a\n   code block\n2. a function/method/attribute/object/class is referred to using sphinx markup\n   in a text block.\n\nSphinx-Gallery examines both the executed code itself, as well as the\ntext blocks (such as this one, or the one below) for these references and\nidentifies the module they belong to. This means that by writing\n:obj:`numpy.sin` and :obj:`numpy.exp` here, they will be identified even though\nthey are not used in the code. This is useful in particular when functions\nreturn classes (meaning it is not explicitly instantiated) -- if you add them\nto the documented blocks of examples that use them, they will be added to\nbackreferences.\n\nThis functionality is used to add documentation hyperlinks to your code\n(`link_to_documentation`) and for mini-gallery creation\n(`references_to_examples`).\n"
      ]
    },
    {
      "cell_type": "code",
      "execution_count": null,
      "metadata": {
        "collapsed": false
      },
      "outputs": [],
      "source": [
        "# Code source: \u00d3scar N\u00e1jera\n# License: BSD 3 clause\n\nimport os.path as op  # noqa, analysis:ignore\nimport matplotlib.pyplot as plt\nimport sphinx_gallery\nfrom sphinx_gallery.backreferences import identify_names, _make_ref_regex\nfrom sphinx_gallery.py_source_parser import split_code_and_text_blocks\n\nfilename = \"plot_6_function_identifier.py\"\nif not op.exists(filename):\n    filename = (\n        __file__\n        if \"__file__\" in locals()\n        else op.join(op.dirname(sphinx_gallery.__path__[0]), \"examples\", filename)\n    )\n\n_, script_blocks = split_code_and_text_blocks(filename)\n\nnames = identify_names(script_blocks, _make_ref_regex())"
      ]
    },
    {
      "cell_type": "markdown",
      "metadata": {},
      "source": [
        "In the code block above, we use the internal function ``identify_names`` to\nobtain all identified names from this file and their full resolved import\npath. We then plot this below, where the identified names functions are\non the left and the full resolved import path is on the right.\n\n"
      ]
    },
    {
      "cell_type": "code",
      "execution_count": null,
      "metadata": {
        "collapsed": false
      },
      "outputs": [],
      "source": [
        "fontsize = 12.5\nfigheight = 3 * len(names) * fontsize / 72\nfig, ax = plt.subplots(figsize=(7.5, figheight))\nax.set_visible(False)\n\nfor i, (name, obj) in enumerate(names.items(), 1):\n    fig.text(\n        0.48,\n        1 - i / (len(names) + 1),\n        name,\n        ha=\"right\",\n        va=\"center\",\n        size=fontsize,\n        transform=fig.transFigure,\n        bbox=dict(boxstyle=\"square\", fc=\"w\", ec=\"k\"),\n    )\n    fig.text(\n        0.52,\n        1 - i / (len(names) + 1),\n        obj[0][\"module\"],\n        ha=\"left\",\n        va=\"center\",\n        size=fontsize,\n        transform=fig.transFigure,\n        bbox=dict(boxstyle=\"larrow,pad=0.1\", fc=\"w\", ec=\"k\"),\n    )\n\nplt.show()"
      ]
    }
  ],
  "metadata": {
    "kernelspec": {
      "display_name": "Python 3",
      "language": "python",
      "name": "python3"
    },
    "language_info": {
      "codemirror_mode": {
        "name": "ipython",
        "version": 3
      },
      "file_extension": ".py",
      "mimetype": "text/x-python",
      "name": "python",
      "nbconvert_exporter": "python",
      "pygments_lexer": "ipython3",
      "version": "3.10.12"
    }
  },
  "nbformat": 4,
  "nbformat_minor": 0
}