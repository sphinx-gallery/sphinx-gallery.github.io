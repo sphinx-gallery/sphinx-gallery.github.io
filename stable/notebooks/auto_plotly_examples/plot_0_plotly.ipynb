{
  "cells": [
    {
      "cell_type": "markdown",
      "metadata": {},
      "source": [
        "\n# Example with the plotly graphing library\n\nSphinx-Gallery supports examples made with the `plotly library`_.\nSphinx-Gallery is able to capture the ``_repr_html_`` of plotly figure objects\n(see `capture_repr`). To display the figure, the last line in your code\nblock should therefore be the plotly figure object.\n\nIn order to use plotly, the ``conf.py`` of the project should include the\nfollowing lines to select the appropriate plotly renderer::\n\n    import plotly.io as pio\n    pio.renderers.default = 'sphinx_gallery'\n\n**Optional**: the ``sphinx_gallery`` renderer of plotly will not generate png\nthumbnails. For png thumbnails, you can use instead the ``sphinx_gallery_png``\nrenderer, and add ``plotly.io._sg_scraper.plotly_sg_scraper`` to the list of\n`image_scrapers`. The scraper requires you to\n[install the orca package](https://plotly.com/python/static-image-export/).\n\nThis tutorial gives a few examples of plotly figures, starting with its\nhigh-level API [plotly express](https://plotly.com/python/plotly-express/).\n\n"
      ]
    },
    {
      "cell_type": "code",
      "execution_count": null,
      "metadata": {
        "collapsed": false
      },
      "outputs": [],
      "source": [
        "import plotly.express as px\nimport numpy as np\n\ndf = px.data.tips()\nfig = px.bar(\n    df,\n    x=\"sex\",\n    y=\"total_bill\",\n    facet_col=\"day\",\n    color=\"smoker\",\n    barmode=\"group\",\n    template=\"presentation+plotly\",\n)\nfig.update_layout(height=400)\nfig"
      ]
    },
    {
      "cell_type": "markdown",
      "metadata": {},
      "source": [
        "In addition to the classical scatter or bar charts, plotly provides a large\nvariety of traces, such as the sunburst hierarchical trace of the following\nexample. plotly is an interactive library: click on one of the continents\nfor a more detailed view of the drill-down.\n\n"
      ]
    },
    {
      "cell_type": "code",
      "execution_count": null,
      "metadata": {
        "collapsed": false
      },
      "outputs": [],
      "source": [
        "df = px.data.gapminder().query(\"year == 2007\")\nfig = px.sunburst(\n    df,\n    path=[\"continent\", \"country\"],\n    values=\"pop\",\n    color=\"lifeExp\",\n    hover_data=[\"iso_alpha\"],\n    color_continuous_scale=\"RdBu\",\n    color_continuous_midpoint=np.average(df[\"lifeExp\"], weights=df[\"pop\"]),\n)\nfig.update_layout(title_text=\"Life expectancy of countries and continents\")\nfig"
      ]
    },
    {
      "cell_type": "markdown",
      "metadata": {},
      "source": [
        "While plotly express is often the high-level entry point of the plotly\nlibrary, complex figures mixing different types of traces can be made\nwith the low-level ``graph_objects`` imperative API.\n\n"
      ]
    },
    {
      "cell_type": "code",
      "execution_count": null,
      "metadata": {
        "collapsed": false
      },
      "outputs": [],
      "source": [
        "from plotly.subplots import make_subplots\nimport plotly.graph_objects as go\n\nfig = make_subplots(rows=1, cols=2, specs=[[{}, {\"type\": \"domain\"}]])\nfig.add_trace(go.Bar(x=[2018, 2019, 2020], y=[3, 2, 5], showlegend=False), 1, 1)\nfig.add_trace(go.Pie(labels=[\"A\", \"B\", \"C\"], values=[1, 3, 6]), 1, 2)\nfig.update_layout(height=400, template=\"presentation\", yaxis_title_text=\"revenue\")\nfig\n\n# sphinx_gallery_thumbnail_path = '_static/plotly_logo.png'"
      ]
    }
  ],
  "metadata": {
    "kernelspec": {
      "display_name": "Python 3",
      "language": "python",
      "name": "python3"
    },
    "language_info": {
      "codemirror_mode": {
        "name": "ipython",
        "version": 3
      },
      "file_extension": ".py",
      "mimetype": "text/x-python",
      "name": "python",
      "nbconvert_exporter": "python",
      "pygments_lexer": "ipython3",
      "version": "3.10.12"
    }
  },
  "nbformat": 4,
  "nbformat_minor": 0
}